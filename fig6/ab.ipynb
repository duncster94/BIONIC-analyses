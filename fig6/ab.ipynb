{
 "cells": [
  {
   "cell_type": "markdown",
   "metadata": {},
   "source": [
    "# Figure 6. a) and b) analyses\n",
    "\n",
    "This notebook contains the compound selection and essential gene-chemical interaction prediction analysis used to generate the results in Fig. 6. The statistics in Fig. 6 a) and random permutation results from Fig. 6 b) are reported."
   ]
  },
  {
   "cell_type": "code",
   "execution_count": 1,
   "metadata": {},
   "outputs": [],
   "source": [
    "import json\n",
    "import math\n",
    "import numpy as np\n",
    "import pandas as pd\n",
    "from pathlib import Path\n",
    "from sklearn.preprocessing import Normalizer\n",
    "from sklearn.neighbors import NearestNeighbors\n",
    "from scipy.stats import hypergeom\n",
    "from statsmodels.stats.multitest import fdrcorrection\n",
    "\n",
    "import matplotlib.pyplot as plt\n",
    "import matplotlib as mpl\n",
    "import seaborn as sns\n",
    "from matplotlib_venn import venn2"
   ]
  },
  {
   "cell_type": "markdown",
   "metadata": {},
   "source": [
    "## Part 1. Compound selection\n",
    "\n",
    "First, import the nonessential gene minipool data (derived from [Piotrowski 2017](https://www.nature.com/articles/nchembio.2436/)), which specifies compounds and corresponding sensitive genes. This file contains compounds with two or more sensitive genes."
   ]
  },
  {
   "cell_type": "code",
   "execution_count": 2,
   "metadata": {},
   "outputs": [],
   "source": [
    "with Path(\"../data/chemical-genetics/minipool-faroutlier-interactions.json\").open(\"r\") as f:\n",
    "    minipool = json.load(f)  # {compound1: [gene1, gene2, ...], ...}"
   ]
  },
  {
   "cell_type": "markdown",
   "metadata": {},
   "source": [
    "Import BIONIC features from integrating a PPI, co-expression and GI network. These are the same features used in the Fig. 2 and 3 analyses."
   ]
  },
  {
   "cell_type": "code",
   "execution_count": 3,
   "metadata": {},
   "outputs": [],
   "source": [
    "features = pd.read_csv(\"../data/methods/yeast_BIONIC_features.csv\", index_col=0)\n",
    "bionic_genes = set(features.index)"
   ]
  },
  {
   "cell_type": "markdown",
   "metadata": {},
   "source": [
    "Define a function to split the genes for a given compound into train and test sets for 5 trials."
   ]
  },
  {
   "cell_type": "code",
   "execution_count": 4,
   "metadata": {},
   "outputs": [],
   "source": [
    "def split_genes(genes: list, test_size: float = 0.1, n_trials: int = 5):\n",
    "\n",
    "    genes = np.array(genes)\n",
    "\n",
    "    # compute validation split size\n",
    "    n_val = math.ceil(len(genes) * test_size)\n",
    "    n_splits = math.ceil(len(genes) / n_val)\n",
    "\n",
    "    # ensure there are not more folds than genes\n",
    "    n_trials = min(len(genes), n_trials)\n",
    "\n",
    "    # get random idxs corresponding to genes\n",
    "    rand_idxs = np.arange(len(genes))\n",
    "    np.random.shuffle(rand_idxs)\n",
    "\n",
    "    # split `rand_idxs` into test splits\n",
    "    test_splits = np.array_split(rand_idxs, n_splits)\n",
    "\n",
    "    # get training splits and map `test_splits` from indices to genes\n",
    "    train_splits = []\n",
    "    test_splits_ = []\n",
    "    for test_split in test_splits:\n",
    "        train_splits.append(\n",
    "            genes[np.array([i for i in np.arange(len(genes)) if i not in test_split])]\n",
    "        )\n",
    "        test_splits_.append(genes[test_split])\n",
    "\n",
    "    # pair train splits with corresponding test splits\n",
    "    splits = list(zip(train_splits, test_splits_))\n",
    "\n",
    "    # return the first `n_trials` train/test splits\n",
    "    return splits[:n_trials]"
   ]
  },
  {
   "cell_type": "markdown",
   "metadata": {},
   "source": [
    "Define a function to compute a feature vector to represent the given compound based on the genes it sensitizes. This will be used both in the compound selection process, and to generate the essential gene-chemical interaction predictions."
   ]
  },
  {
   "cell_type": "code",
   "execution_count": 5,
   "metadata": {},
   "outputs": [],
   "source": [
    "def compute_compound_features(features):\n",
    "\n",
    "    # compute cosine centroid by row normalizing, computing mean and rescaling,\n",
    "    # see here: https://stats.stackexchange.com/a/412747/180465\n",
    "    features_normed = Normalizer().fit_transform(features.values)\n",
    "    features_normed_sum = np.sum(features_normed, axis=0)\n",
    "    normed_centroid = Normalizer().fit_transform(features_normed_sum.reshape((1, -1)))\n",
    "    vector_sizes = np.linalg.norm(features.values, axis=1)\n",
    "    average_vector_size = np.mean(vector_sizes)\n",
    "    centroid = average_vector_size * normed_centroid  # represents the compound feature vector\n",
    "\n",
    "    return centroid"
   ]
  },
  {
   "cell_type": "markdown",
   "metadata": {},
   "source": [
    "Define a function to generate predictions for minipool senstive genes in the test set given the BIONIC features and training set sensitive genes."
   ]
  },
  {
   "cell_type": "code",
   "execution_count": 6,
   "metadata": {},
   "outputs": [],
   "source": [
    "def get_nearest_neighbors(features, training_genes):\n",
    "\n",
    "    # subset `features` to `training_genes`\n",
    "    features_sub = features.loc[training_genes]\n",
    "\n",
    "    # get feature vector representing the compound\n",
    "    centroid = compute_compound_features(features_sub)\n",
    "\n",
    "    # create ranked list of compound-gene nearest neighbor hits\n",
    "    nn = NearestNeighbors(n_neighbors=20, metric=\"cosine\")\n",
    "    nn.fit(features.values)\n",
    "    dists, neighbors = nn.kneighbors(centroid, return_distance=True)\n",
    "    dists, neighbors = (\n",
    "        dists[0],\n",
    "        neighbors[0],\n",
    "    )\n",
    "\n",
    "    neighbors = features.index[neighbors]  # predicted sensitive genes\n",
    "\n",
    "    return neighbors"
   ]
  },
  {
   "cell_type": "markdown",
   "metadata": {},
   "source": [
    "Define an ordered Fisher's exact test to assess the quality of BIONIC sensitive gene predictions."
   ]
  },
  {
   "cell_type": "code",
   "execution_count": 7,
   "metadata": {},
   "outputs": [],
   "source": [
    "def ordered_fisher(features, neighbors, targets):\n",
    "\n",
    "    targets_set = set(targets)\n",
    "\n",
    "    lowest_pval = 1\n",
    "\n",
    "    # iterate over increasing sized subsets of ranked list (`neighbors`) and track lowest p-val \n",
    "    for idx in range(len(neighbors)):\n",
    "\n",
    "        neighbors_subset = neighbors[: idx + 1]\n",
    "\n",
    "        [k, M, n, N] = [\n",
    "            len(set(neighbors_subset).intersection(targets_set)),\n",
    "            len(features.index),\n",
    "            len(targets_set),\n",
    "            len(neighbors_subset),\n",
    "        ]\n",
    "        prob = hypergeom.pmf(k, M, n, N)\n",
    "        if prob < lowest_pval:\n",
    "            lowest_pval = prob\n",
    "\n",
    "    return lowest_pval"
   ]
  },
  {
   "cell_type": "markdown",
   "metadata": {},
   "source": [
    "Iterate over compounds and score BIONIC predictions for each."
   ]
  },
  {
   "cell_type": "code",
   "execution_count": 8,
   "metadata": {},
   "outputs": [],
   "source": [
    "results = {}\n",
    "for compound, genes in minipool.items():\n",
    "\n",
    "    # filter minipool data to only include genes in `emb`\n",
    "    genes = list(bionic_genes.intersection(set(genes)))\n",
    "    if len(genes) < 2:\n",
    "        continue\n",
    "\n",
    "    splits = split_genes(genes)\n",
    "    pvals = []\n",
    "    for train, test in splits:\n",
    "        neighbors = get_nearest_neighbors(features, train)\n",
    "\n",
    "        pval = ordered_fisher(features, neighbors, test)\n",
    "        pvals.append(pval)\n",
    "\n",
    "    avg_pval = sum(pvals) / len(pvals)  # compute average p-val over train/test splits\n",
    "    results[compound] = avg_pval\n",
    "\n",
    "results = {k: v for k, v in sorted(results.items(), key=lambda item: item[1])}  # sort by p-val\n",
    "results = pd.DataFrame(list(results.items()), columns=[\"Compound\", \"p-value\"])"
   ]
  },
  {
   "cell_type": "markdown",
   "metadata": {},
   "source": [
    "We then take the top 50 scoring compounds from the `results` DataFrame. These are the selected compounds that BIONIC will make essential gene-compound interaction predictions for. Due to the random train/test splitting, the compounds in `results` may differ very slightly from the compounds selected in the manuscript. We import the selected compounds from the manuscript to ensure consistency for the remaining analysis."
   ]
  },
  {
   "cell_type": "code",
   "execution_count": 9,
   "metadata": {},
   "outputs": [
    {
     "name": "stdout",
     "output_type": "stream",
     "text": [
      "['NP329', 'NPD7279', 'NPE498', 'NPD5998', 'NPE792', 'Camptothecin', 'NPE736', 'NPD5154', 'NPD6889', 'NPD4907', 'NPD7518', 'NPD3076', 'Micafungin', 'NPD7050', 'Hedamycin', 'NPE348', 'NP344', 'NPD6617', 'NPD7880', 'NPD401', 'NPE888', 'NPD1395', 'NPD4027', 'NPE546', 'NPE752', 'NPD6849', 'NPD5175', 'NPD228', 'NPE576', 'NPD6009', 'NPD435', 'NPD5403', 'NPD5421', 'NPD5731', 'NPD8203', 'NPE927', 'NPE787', 'Acivicin', 'NPD2399', 'NPD7813', 'NPD2735', 'NPE282', 'NPD3934', 'NPD5017', 'NPD6517', 'NPD5676', 'NPD1918', 'NPD1498', 'NPD6956', 'NPD824']\n"
     ]
    }
   ],
   "source": [
    "selected_compounds = list(results.iloc[:50][\"Compound\"])\n",
    "\n",
    "# import manuscript selected compounts\n",
    "selected_compounds = list(\n",
    "    pd.read_csv(\"../data/chemical-genetics/selected-compounds.txt\", sep=\"\\n\", header=None\n",
    ")[0])\n",
    "print(selected_compounds)"
   ]
  },
  {
   "cell_type": "markdown",
   "metadata": {},
   "source": [
    "## Part 2. Essential gene-chemical interaction predictions\n",
    "\n",
    "Next we generate a set of essential gene-chemical interaction predictions for the 50 compounds in `selected_compounds`. We also test bioprocess enrichment for the predicted sensitive essential genes."
   ]
  },
  {
   "cell_type": "code",
   "execution_count": 10,
   "metadata": {},
   "outputs": [],
   "source": [
    "# import genes we have TS alleles for (i.e. essential genes we can experimentally screen)\n",
    "ts_genes = list(\n",
    "    pd.read_csv(\"../data/chemical-genetics/TS-genes.txt\", sep=\"\\n\", header=None)[0]\n",
    ")\n",
    "\n",
    "# create a subset of `features` consisting of genes in `ts_genes`\n",
    "common_genes = np.intersect1d(list(bionic_genes), ts_genes)\n",
    "features_ts = features.loc[common_genes]\n",
    "\n",
    "# import ORF to gene name mapper file\n",
    "with Path(\"../data/chemical-genetics/yeast-orf2name-mapper.json\").open(\"r\") as f:\n",
    "    orf_mapper = json.load(f)"
   ]
  },
  {
   "cell_type": "markdown",
   "metadata": {},
   "source": [
    "Make essential gene-compound interaction predictions for the compounds selected in part 1 (`selected_compounds`)."
   ]
  },
  {
   "cell_type": "code",
   "execution_count": 11,
   "metadata": {},
   "outputs": [
    {
     "name": "stdout",
     "output_type": "stream",
     "text": [
      "['KRE5', 'KRE9', 'KEG1', 'BIG1', 'ROT1', 'TRS130', 'WBP1', 'TPT1', 'PKC1', 'PGA1', 'GPI17', 'GPI13', 'GAB1', 'GPI18', 'SMP3', 'GPI10', 'KAR2', 'GAA1', 'GPI11', 'RHO1']\n"
     ]
    }
   ],
   "source": [
    "# first define a function since we'll use this again to produce fig. b)\n",
    "def make_predictions(features, common_genes):\n",
    "    features_ts = features.loc[common_genes]\n",
    "    predictions = {}\n",
    "    for compound in selected_compounds:\n",
    "\n",
    "        # get genes sensitive to compounds from minipool data\n",
    "        training_genes = minipool[compound]\n",
    "\n",
    "        # subset `features` to `training_genes`\n",
    "        training_genes = np.intersect1d(training_genes, list(bionic_genes))\n",
    "        features_train = features.loc[training_genes]\n",
    "\n",
    "        # compute feature vector for `compound`\n",
    "        centroid = compute_compound_features(features_train)\n",
    "\n",
    "        # compute 20 nearest essential gene neighbors to `centroid`\n",
    "        nn = NearestNeighbors(n_neighbors=20, metric=\"cosine\")\n",
    "        nn.fit(features_ts.values)\n",
    "        _, neighbors = nn.kneighbors(centroid, return_distance=True)\n",
    "\n",
    "        # `neighbors` are indices, so get corresponding genes\n",
    "        neighbors = list(features_ts.index[neighbors.flatten()])\n",
    "\n",
    "        predictions[compound] = neighbors\n",
    "    \n",
    "    return predictions\n",
    "\n",
    "predictions = make_predictions(features, common_genes)\n",
    "# `predictions` contains the essential gene-chemical interactions for each compound\n",
    "# for example, show the predicted genes for NP329 and map genes from ORFs to gene names\n",
    "print([orf_mapper[orf] if orf in orf_mapper else orf for orf in predictions[\"NP329\"]])"
   ]
  },
  {
   "cell_type": "markdown",
   "metadata": {},
   "source": [
    "## Part 3. Comparison with experimental screens\n",
    "\n",
    "Finally, we compare the predicted interactions in `predictions` with the experimentally screened sensitive essential genes. We compute the bioprocess overlap between the enriched bioprocesses of the BIONIC predictions and the annotated bioprocesses of the experimental results. We also compute the significance of the BIONIC predictions using an ordered Fisher's exact test."
   ]
  },
  {
   "cell_type": "code",
   "execution_count": 12,
   "metadata": {},
   "outputs": [
    {
     "name": "stdout",
     "output_type": "stream",
     "text": [
      "['Nuclear-cytoplasmic transport', 'Cell polarity & morphogenesis', 'Vesicle traffic', 'tRNA wobble modification', 'Glycosylation, protein folding/targeting, cell wall biosynthesis']\n"
     ]
    }
   ],
   "source": [
    "# import experimental screen results\n",
    "with Path(\"../data/chemical-genetics/TS-compound-screen-results.json\").open(\"r\") as f:\n",
    "    screen_results = json.load(f)\n",
    "\n",
    "# import Costanzo bioprocess standard\n",
    "with Path(\"../data/standards/Costanzo-bioprocess.json\").open(\"r\") as f:\n",
    "    bioprocesses = json.load(f)\n",
    "\n",
    "# reduce the bioprocess standard to only include TS genes that are also in `features`\n",
    "new_bioprocesses = {}\n",
    "for bioprocess, genes in bioprocesses.items():\n",
    "    intersection_genes = np.intersect1d(genes, common_genes)\n",
    "    if len(intersection_genes) > 0:\n",
    "        new_bioprocesses[bioprocess] = intersection_genes\n",
    "bioprocesses = new_bioprocesses\n",
    "\n",
    "# get bioprocess annotations for each compound\n",
    "compound_annotations = {}\n",
    "for compound, genes in screen_results.items():\n",
    "    annotated_biops = set()\n",
    "    for bioprocess, bioprocess_genes in bioprocesses.items():\n",
    "        bioprocess_genes_set = set(bioprocess_genes)\n",
    "        for gene in genes:\n",
    "            if gene in bioprocess_genes_set:\n",
    "                annotated_biops.add(bioprocess)\n",
    "    compound_annotations[compound] = list(annotated_biops)\n",
    "\n",
    "# show annotations for \"NP329\"\n",
    "print(compound_annotations[\"NP329\"])"
   ]
  },
  {
   "cell_type": "markdown",
   "metadata": {},
   "source": [
    "Define a function to determine biological processes enrichment."
   ]
  },
  {
   "cell_type": "code",
   "execution_count": 13,
   "metadata": {},
   "outputs": [],
   "source": [
    "def get_significant_bioprocesses(standard: dict, common_genes: list, predicted_genes: list):\n",
    "    biop_pvals = []\n",
    "    negative_biops = []\n",
    "\n",
    "    # compute enrichment p-values for each bioprocess in `standard`\n",
    "    for biop, genes in standard.items():\n",
    "        [k, M, n, N] = [\n",
    "            len(set(genes).intersection(set(predicted_genes))),\n",
    "            len(common_genes),\n",
    "            len(genes),\n",
    "            len(predicted_genes),\n",
    "        ]\n",
    "        cdf = hypergeom.cdf(k, M, n, N)\n",
    "\n",
    "        # track negative tailed (depleted) results to remove later\n",
    "        if cdf < 0.5:\n",
    "            negative_biops.append(biop)\n",
    "        biop_pvals.append(hypergeom.pmf(k, M, n, N))\n",
    "\n",
    "    # perform FDR correction\n",
    "    significance, corrected_biop_pvals = fdrcorrection(biop_pvals)\n",
    "    sig_biops = np.array(list(standard.keys()))[significance]\n",
    "    sig_pvals = corrected_biop_pvals[significance]\n",
    "\n",
    "    # remove significant bioprocesses that are depleted\n",
    "    sig_biops_new = []\n",
    "    sig_pvals_new = []\n",
    "    for biop, pval in zip(sig_biops, sig_pvals):\n",
    "        if biop in negative_biops:\n",
    "            continue\n",
    "        sig_biops_new.append(biop)\n",
    "        sig_pvals_new.append(pval)\n",
    "    sig_biops = sig_biops_new\n",
    "    sig_pvals = sig_pvals_new\n",
    "\n",
    "    res = {biop: pval for biop, pval in zip(sig_biops, sig_pvals)}\n",
    "    res = {\n",
    "        k: v for k, v in sorted(res.items(), key=lambda item: item[1])\n",
    "    }  # sort from smallest p-value to largest\n",
    "    return res"
   ]
  },
  {
   "cell_type": "markdown",
   "metadata": {},
   "source": [
    "We compute the bioprocesses enriched for the BIONIC sensitive essential gene predictions."
   ]
  },
  {
   "cell_type": "code",
   "execution_count": 14,
   "metadata": {},
   "outputs": [
    {
     "data": {
      "text/plain": [
       "{'Glycosylation, protein folding/targeting, cell wall biosynthesis': 2.405340205949834e-20}"
      ]
     },
     "execution_count": 14,
     "metadata": {},
     "output_type": "execute_result"
    }
   ],
   "source": [
    "predicted_annotations = {}\n",
    "for compound, genes in predictions.items():\n",
    "    enriched_bioprocesses = get_significant_bioprocesses(\n",
    "        bioprocesses, common_genes, genes\n",
    "    )\n",
    "    predicted_annotations[compound] = enriched_bioprocesses\n",
    "\n",
    "# show enriched bioprocesses for BIONIC NP329 predictions\n",
    "predicted_annotations[\"NP329\"]"
   ]
  },
  {
   "cell_type": "markdown",
   "metadata": {},
   "source": [
    "We then compute the significance of the BIONIC sensitive essential gene predictions for each compound using an ordered Fisher's exact test."
   ]
  },
  {
   "cell_type": "code",
   "execution_count": 15,
   "metadata": {},
   "outputs": [
    {
     "data": {
      "text/plain": [
       "6.083498096647935e-08"
      ]
     },
     "execution_count": 15,
     "metadata": {},
     "output_type": "execute_result"
    }
   ],
   "source": [
    "compound_pvals = {}\n",
    "for compound, predicted_genes in predictions.items():\n",
    "    true_genes = screen_results[compound]\n",
    "\n",
    "    pval = ordered_fisher(features_ts, predicted_genes, true_genes)\n",
    "    compound_pvals[compound] = pval\n",
    "\n",
    "# perform FDR correction on p-values\n",
    "_, corrected_pvals = fdrcorrection(list(compound_pvals.values()))\n",
    "compound_pvals = {compound: pval for compound, pval in zip(compound_pvals.keys(), corrected_pvals)}\n",
    "\n",
    "# show NP329 p-value\n",
    "compound_pvals[\"NP329\"]"
   ]
  },
  {
   "cell_type": "markdown",
   "metadata": {},
   "source": [
    "### Fig. a)\n",
    "\n",
    "Compute the overlap between screened and predicted sensitive essential genes, number of significantly predicted compounds, and biological process overlap."
   ]
  },
  {
   "cell_type": "code",
   "execution_count": 16,
   "metadata": {},
   "outputs": [
    {
     "name": "stdout",
     "output_type": "stream",
     "text": [
      "Total genes: 156, Correct predictions: 35\n",
      "Significantly enriched compounds: 13\n",
      "Total bioprocesses: 62, Correct bioprocesses: 27\n"
     ]
    },
    {
     "data": {
      "text/plain": [
       "<Figure size 432x288 with 0 Axes>"
      ]
     },
     "metadata": {},
     "output_type": "display_data"
    },
    {
     "data": {
      "image/png": "[encoded data removed]",
      "text/plain": [
       "<Figure size 1008x288 with 3 Axes>"
      ]
     },
     "metadata": {},
     "output_type": "display_data"
    }
   ],
   "source": [
    "# compute total sensitive essentials and correctly predicted essentials\n",
    "total_sensitive_genes = sum([len(sensitive_genes) for sensitive_genes in screen_results.values()])\n",
    "correct_sensitive_genes = 0\n",
    "for compound, predicted_genes in predictions.items():\n",
    "    true_genes = screen_results[compound]\n",
    "    correct_sensitive_genes += len(np.intersect1d(predicted_genes, true_genes))\n",
    "print(f\"Total genes: {total_sensitive_genes}, Correct predictions: {correct_sensitive_genes}\")\n",
    "\n",
    "# compute number of significantly predicted compounds\n",
    "significant_compounds = sum([1 if pval < 0.05 else 0 for pval in compound_pvals.values()])\n",
    "print(f\"Significantly enriched compounds: {significant_compounds}\")\n",
    "\n",
    "# compute the bioprocess overlap\n",
    "total_bioprocesses = sum([len(bioprocesses) for bioprocesses in compound_annotations.values()])\n",
    "correct_bioprocesses = 0\n",
    "for compound, predicted_annot in predicted_annotations.items():\n",
    "    predicted_annot = list(predicted_annot.keys())\n",
    "    true_annot = compound_annotations[compound]\n",
    "    correct_bioprocesses += len(np.intersect1d(predicted_annot, true_annot))\n",
    "print(f\"Total bioprocesses: {total_bioprocesses}, Correct bioprocesses: {correct_bioprocesses}\")\n",
    "\n",
    "\n",
    "# plot venn diagrams\n",
    "sns.set({\"figure.facecolor\": \"white\"})\n",
    "plt.clf()\n",
    "fig, axes = plt.subplots(1, 3, figsize=(14, 4))\n",
    "for i, ax in enumerate(axes):\n",
    "    if i == 0:\n",
    "        AnotB = total_sensitive_genes - correct_sensitive_genes\n",
    "        BnotA = 0\n",
    "        AandB = correct_sensitive_genes\n",
    "        v = venn2(\n",
    "            subsets=(AnotB, BnotA, AandB),\n",
    "            set_labels=(\"Sensitive\\nEssential\\nGenes\", \"BIONIC\\nPredictions\"),\n",
    "            ax=ax\n",
    "        )\n",
    "\n",
    "    if i == 1:\n",
    "        AnotB = len(selected_compounds) - significant_compounds\n",
    "        BnotA = 0\n",
    "        AandB = significant_compounds\n",
    "        v = venn2(\n",
    "            subsets=(AnotB, BnotA, AandB),\n",
    "            set_labels=(\"Compounds\", \"Significant\\nBIONIC\\nPredictions\"),\n",
    "            ax=ax\n",
    "        )\n",
    "\n",
    "    if i == 2:\n",
    "        AnotB = total_bioprocesses - correct_bioprocesses\n",
    "        BnotA = 0\n",
    "        AandB = correct_bioprocesses\n",
    "        v = venn2(\n",
    "            subsets=(AnotB, BnotA, AandB),\n",
    "            set_labels=(\"Annotated\\nBioprocesses\", \"BIONIC\\nPredictions\"),\n",
    "            ax=ax\n",
    "        )\n",
    "    \n",
    "    v.get_patch_by_id(\"10\").set_color(\"#b3cde3\")\n",
    "    v.get_patch_by_id(\"10\").set_alpha(1.0)\n",
    "    v.get_patch_by_id(\"11\").set_color(\"#8856a7\")\n",
    "    v.get_patch_by_id(\"11\").set_alpha(1.0)\n",
    "    v.get_label_by_id(\"11\").set_color(\"white\")\n",
    "    v.get_label_by_id(\"01\").set_text(\"\")\n",
    "\n",
    "plt.show()"
   ]
  },
  {
   "cell_type": "markdown",
   "metadata": {},
   "source": [
    "### Fig. b)\n",
    "\n",
    "Generate new sensitive essential gene and bioprocess predictions for randomly permuted BIONIC gene features. Compare the resulting correct prediction ratios between the randomly permuted features and the original BIONIC features. **NOTE** this will take a few minutes to run."
   ]
  },
  {
   "cell_type": "code",
   "execution_count": 17,
   "metadata": {},
   "outputs": [],
   "source": [
    "# compute correct predictions ratios for unpermuted BIONIC predictions\n",
    "gene_pred_ratio = correct_sensitive_genes / total_sensitive_genes\n",
    "bioprocess_pred_ratio = correct_bioprocesses / total_bioprocesses\n",
    "\n",
    "# next iterate over random permutations of the BIONIC features and make predictions\n",
    "rand_gene_ratios = []\n",
    "rand_bioprocess_ratios = []\n",
    "\n",
    "# ran for 1000 iterations in manuscript, reduced here to 100 to reduce computation time\n",
    "for _ in range(100):\n",
    "\n",
    "    # randomly permute gene labels\n",
    "    rand_features = features.copy()\n",
    "    rand_features.index = rand_features.index[np.random.permutation(len(rand_features))]\n",
    "\n",
    "    # compute correct sensitive gene prediction ratio\n",
    "    rand_predictions = make_predictions(rand_features, common_genes)\n",
    "    rand_correct_sensitive_genes = 0\n",
    "    for compound, predicted_genes in rand_predictions.items():\n",
    "        true_genes = screen_results[compound]\n",
    "        rand_correct_sensitive_genes += len(np.intersect1d(predicted_genes, true_genes))\n",
    "    rand_gene_ratios.append(rand_correct_sensitive_genes / total_sensitive_genes)\n",
    "\n",
    "    # compute enriched bioprocesses and correct bioprocess prediction ratio\n",
    "    rand_correct_bioprocesses = 0\n",
    "    for compound, predicted_genes in rand_predictions.items():\n",
    "        enriched_bioprocesses = get_significant_bioprocesses(\n",
    "            bioprocesses, common_genes, predicted_genes\n",
    "        )\n",
    "        predicted_annot = list(enriched_bioprocesses.keys())\n",
    "        true_annot = compound_annotations[compound]\n",
    "        rand_correct_bioprocesses += len(np.intersect1d(predicted_annot, true_annot))\n",
    "    rand_bioprocess_ratios.append(rand_correct_bioprocesses / total_bioprocesses)"
   ]
  },
  {
   "cell_type": "markdown",
   "metadata": {},
   "source": [
    "Plot the resulting distributions. **NOTE** that due to the randomness of the permutation procedure, and because we only took 100 samples instead of 1000, these plots may look slightly different than what is reported in the manuscript."
   ]
  },
  {
   "cell_type": "code",
   "execution_count": 18,
   "metadata": {},
   "outputs": [
    {
     "data": {
      "text/plain": [
       "<Figure size 432x288 with 0 Axes>"
      ]
     },
     "metadata": {},
     "output_type": "display_data"
    },
    {
     "data": {
      "image/png": "[encoded data removed]",
      "text/plain": [
       "<Figure size 864x360 with 2 Axes>"
      ]
     },
     "metadata": {},
     "output_type": "display_data"
    }
   ],
   "source": [
    "plt.clf()\n",
    "sns.set_style(\"white\")\n",
    "fig, axes = plt.subplots(1, 2, figsize=(12, 5))\n",
    "for i, ax in enumerate(axes):\n",
    "    if i == 0:\n",
    "        x = rand_gene_ratios\n",
    "        line = gene_pred_ratio\n",
    "        ax.set_title(\"Sensitive Essential Gene Predictions\")\n",
    "    if i == 1:\n",
    "        x = rand_bioprocess_ratios\n",
    "        line = bioprocess_pred_ratio\n",
    "        ax.set_title(\"Bioprocess Predictions\")\n",
    "\n",
    "    sns.histplot(x=x, ax=ax, color=\"#b3cde3\", edgecolor=\"#666666\", binwidth=0.01)\n",
    "    ax.set_ylabel(\"Number of Samples\")\n",
    "    ax.set_xlabel(\"Correct Predictions Ratio\")\n",
    "    max_y = max(ax.get_yticks())\n",
    "    ax.plot([line, line], [0, max_y], c=(0, 0, 0, 0.5), ls=\"--\", lw=1.75)\n",
    "    ax.text(line, max_y, f\"{line:.3f}\")\n",
    "    ax.set_xlim(0)\n",
    "\n",
    "sns.despine()\n",
    "plt.show()"
   ]
  }
 ],
 "metadata": {
  "interpreter": {
   "hash": "7f1142d212e6e8cceef5b4a22ed61237952f6fb2a7c6aecb63226793aae517a2"
  },
  "kernelspec": {
   "display_name": "Python 3.8.12 ('bionic-evals': conda)",
   "language": "python",
   "name": "python3"
  },
  "language_info": {
   "codemirror_mode": {
    "name": "ipython",
    "version": 3
   },
   "file_extension": ".py",
   "mimetype": "text/x-python",
   "name": "python",
   "nbconvert_exporter": "python",
   "pygments_lexer": "ipython3",
   "version": "3.8.12"
  },
  "orig_nbformat": 4
 },
 "nbformat": 4,
 "nbformat_minor": 2
}
