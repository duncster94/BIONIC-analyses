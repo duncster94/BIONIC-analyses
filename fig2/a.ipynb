{
 "cells": [
  {
   "cell_type": "markdown",
   "metadata": {},
   "source": [
    "# Figure 2. a) analysis\n",
    "\n",
    "Co-annotation prediction, module detection and gene function prediction evaluation code can be run using the **BIONIC-evals** library from [this](https://github.com/duncster94/BIONIC-evals) respository. The README provides instructions on installing and running the library. A config file is provided to replicate the performance evaluations from Fig. 2 a).\n",
    "\n",
    "**NOTE:** The module detection and gene function prediction evaluations are computationally intensive and take a long time to run. I am happy to implement multiprocessing support to speed these up - if you are interested in this feature please open an [issue](https://github.com/duncster94/BIONIC-evals/issues)."
   ]
  }
 ],
 "metadata": {
  "language_info": {
   "name": "python"
  },
  "orig_nbformat": 4
 },
 "nbformat": 4,
 "nbformat_minor": 2
}
